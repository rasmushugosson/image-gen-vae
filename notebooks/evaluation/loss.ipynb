{
 "cells": [
  {
   "cell_type": "code",
   "execution_count": 1,
   "metadata": {},
   "outputs": [],
   "source": [
    "%reload_ext autoreload\n",
    "\n",
    "# Imports\n",
    "\n",
    "import os\n",
    "import sys\n",
    "module_path = os.path.abspath(os.path.join('../image_gen_dm')) # or the path to your source code\n",
    "sys.path.append(str(module_path))\n",
    "\n",
    "import matplotlib.pyplot as plt\n",
    "import pandas as pd\n",
    "\n",
    "TF_ENABLE_ONEDNN_OPTS=0\n",
    "os.environ['TF_ENABLE_ONEDNN_OPTS'] = str(TF_ENABLE_ONEDNN_OPTS)\n",
    "os.environ['TG_GPU_ALLOCATOR'] = 'cuda_malloc_async'\n"
   ]
  },
  {
   "cell_type": "code",
   "execution_count": null,
   "metadata": {},
   "outputs": [],
   "source": [
    "# NCVAE\n",
    "\n",
    "df = pd.read_csv('res/histories/ncvae.csv')\n",
    "\n",
    "df['loss_avg'] = df['loss'].rolling(window=32).mean()\n",
    "\n",
    "print(df['loss_avg'].iloc[-1])"
   ]
  },
  {
   "cell_type": "code",
   "execution_count": null,
   "metadata": {},
   "outputs": [],
   "source": [
    "# CVAE\n",
    "\n",
    "df = pd.read_csv('res/histories/cvae.csv')\n",
    "\n",
    "df['loss_avg'] = df['loss'].rolling(window=32).mean()\n",
    "\n",
    "print(df['loss_avg'].iloc[-1])"
   ]
  },
  {
   "cell_type": "code",
   "execution_count": 15,
   "metadata": {},
   "outputs": [
    {
     "name": "stdout",
     "output_type": "stream",
     "text": [
      "$ 1 - 256 $ & $ 2584.898 $ & $ 2581.701 $ & $ 2583.234 $ & $ 2581.014 $ \\\\\n",
      "$ 257 - 512 $ & $ 2576.462 $ & $ 2574.699 $ & $ 2572.359 $ & $ 2572.504 $ \\\\\n",
      "$ 513 - 768 $ & $ 2575.633 $ & $ 2572.885 $ & $ 2570.939 $ & $ 2569.753 $ \\\\\n",
      "$ 769 - 1024 $ & $ 2574.95 $ & $ 2571.202 $ & $ 2570.317 $ & $ 2568.311 $ \\\\\n",
      "$ 1025 - 1280 $ & $ 2573.548 $ & $ 2570.527 $ & $ 2568.322 $ & $ 2567.2 $ \\\\\n",
      "$ 1281 - 1536 $ & $ 2571.603 $ & $ 2569.17 $ & $ 2566.876 $ & $ 2565.451 $ \\\\\n",
      "$ 1537 - 1792 $ & $ 2570.737 $ & $ 2568.644 $ & $ 2566.3 $ & $ 2564.445 $ \\\\\n",
      "$ 1793 - 2048 $ & $ 2570.447 $ & $ 2570.606 $ & $ 2565.259 $ & $ 2563.89 $ \\\\\n",
      "$ 2049 - 2304 $ & $ 2570.607 $ & $ 2570.255 $ & $ 2563.569 $ & $ 2563.423 $ \\\\\n",
      "$ 2305 - 2560 $ & $ 2569.203 $ & $ 2569.871 $ & $ 2562.827 $ & $ 2563.074 $ \\\\\n",
      "$ 2561 - 2816 $ & $ 2569.443 $ & $ 2570.079 $ & $ 2562.33 $ & $ 2562.758 $ \\\\\n",
      "$ 2817 - 3072 $ & $ 2569.896 $ & $ 2569.766 $ & $ 2561.937 $ & $ 2562.486 $ \\\\\n",
      "$ 3073 - 3328 $ & $ 2568.411 $ & $ 2568.85 $ & $ 2561.6 $ & $ 2562.334 $ \\\\\n",
      "$ 3329 - 3584 $ & $ 2568.057 $ & $ 2568.81 $ & $ 2561.339 $ & $ 2562.073 $ \\\\\n",
      "$ 3585 - 3840 $ & $ 2568.293 $ & $ 2568.145 $ & $ 2561.138 $ & $ 2561.855 $ \\\\\n",
      "$ 3841 - 4096 $ & $ 2567.703 $ & $ 2568.625 $ & $ 2560.914 $ & $ 2561.669 $ \\\\\n"
     ]
    }
   ],
   "source": [
    "# Calculate mean loss\n",
    "\n",
    "window_size = 256\n",
    "\n",
    "df1 = pd.read_csv('res/histories/ncvae.csv')\n",
    "df1['loss_avg'] = df1['loss'].rolling(window=window_size).mean()\n",
    "\n",
    "df2 = pd.read_csv('res/histories/cvae.csv')\n",
    "df2['loss_avg'] = df2['loss'].rolling(window=window_size).mean()\n",
    "\n",
    "df3 = pd.read_csv('res/generative/ncvae.csv')\n",
    "df3['loss_avg'] = df3['loss'].rolling(window=window_size).mean()\n",
    "\n",
    "df4 = pd.read_csv('res/generative/cvae.csv')\n",
    "df4['loss_avg'] = df4['loss'].rolling(window=window_size).mean()\n",
    "\n",
    "for i in range(4096 // window_size):\n",
    "\n",
    "    print('$', i * window_size + 1,'-', i * window_size + window_size, '$ & $', \n",
    "          str(round(df1['loss_avg'].iloc[i * window_size + window_size - 1], 3)), '$ & $', \n",
    "          str(round(df2['loss_avg'].iloc[i * window_size + window_size - 1], 3)), '$ & $', \n",
    "          str(round(df3['loss_avg'].iloc[i * window_size + window_size - 1], 3)), '$ & $', \n",
    "          str(round(df4['loss_avg'].iloc[i * window_size + window_size - 1], 3)), '$ \\\\\\\\')"
   ]
  }
 ],
 "metadata": {
  "kernelspec": {
   "display_name": "Python 3 (ipykernel)",
   "language": "python",
   "name": "python3"
  }
 },
 "nbformat": 4,
 "nbformat_minor": 2
}
